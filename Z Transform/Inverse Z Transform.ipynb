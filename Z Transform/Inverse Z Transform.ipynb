{
 "cells": [
  {
   "cell_type": "markdown",
   "id": "legendary-quarter",
   "metadata": {},
   "source": "# Transformada Z inversa"
  },
  {
   "cell_type": "code",
   "execution_count": 1,
   "id": "needed-alberta",
   "metadata": {},
   "outputs": [],
   "source": [
    "import numpy as np\n",
    "import matplotlib.pyplot as plt\n",
    "from matplotlib import cm\n",
    "\n",
    "import sympy as sym\n",
    "%matplotlib inline"
   ]
  },
  {
   "cell_type": "code",
   "execution_count": 2,
   "id": "bored-architecture",
   "metadata": {},
   "outputs": [],
   "source": [
    "z = sym.symbols('z')\n",
    "k = sym.symbols('k',integer=True)"
   ]
  },
  {
   "cell_type": "code",
   "execution_count": 3,
   "id": "amazing-wholesale",
   "metadata": {},
   "outputs": [
    {
     "data": {
      "text/latex": [
       "$\\displaystyle \\sum_{k=0}^{\\infty} z^{- k}$"
      ],
      "text/plain": [
       "Sum(z**(-k), (k, 0, oo))"
      ]
     },
     "execution_count": 3,
     "metadata": {},
     "output_type": "execute_result"
    }
   ],
   "source": [
    "unitstep = sym.Sum(z**(-k),(k,0,sym.oo))\n",
    "unitstep"
   ]
  },
  {
   "cell_type": "code",
   "execution_count": 4,
   "id": "passive-justice",
   "metadata": {},
   "outputs": [
    {
     "data": {
      "text/latex": [
       "$\\displaystyle \\begin{cases} \\frac{1}{1 - \\frac{1}{z}} & \\text{for}\\: \\frac{1}{\\left|{z}\\right|} < 1 \\\\\\sum_{k=0}^{\\infty} z^{- k} & \\text{otherwise} \\end{cases}$"
      ],
      "text/plain": [
       "Piecewise((1/(1 - 1/z), 1/Abs(z) < 1), (Sum(z**(-k), (k, 0, oo)), True))"
      ]
     },
     "execution_count": 4,
     "metadata": {},
     "output_type": "execute_result"
    }
   ],
   "source": [
    "shortform = unitstep.doit()\n",
    "shortform"
   ]
  },
  {
   "cell_type": "code",
   "execution_count": 5,
   "id": "hired-worship",
   "metadata": {},
   "outputs": [
    {
     "data": {
      "text/latex": [
       "$\\displaystyle \\frac{1}{1 - \\frac{1}{z}}$"
      ],
      "text/plain": [
       "1/(1 - 1/z)"
      ]
     },
     "execution_count": 5,
     "metadata": {},
     "output_type": "execute_result"
    }
   ],
   "source": [
    "uz = shortform.args[0][0]\n",
    "uz"
   ]
  },
  {
   "cell_type": "code",
   "execution_count": 6,
   "id": "virtual-steps",
   "metadata": {},
   "outputs": [
    {
     "data": {
      "text/latex": [
       "$\\displaystyle \\frac{1}{1 - q}$"
      ],
      "text/plain": [
       "1/(1 - q)"
      ]
     },
     "execution_count": 6,
     "metadata": {},
     "output_type": "execute_result"
    }
   ],
   "source": [
    "q = sym.symbols('q')\n",
    "uq = uz.subs({z: q**(-1)})\n",
    "uq"
   ]
  },
  {
   "cell_type": "code",
   "execution_count": 7,
   "id": "acting-camel",
   "metadata": {},
   "outputs": [
    {
     "data": {
      "text/plain": [
       "[1, 1, 1, 1, 1, 1, 1, 1, 1, 1]"
      ]
     },
     "execution_count": 7,
     "metadata": {},
     "output_type": "execute_result"
    }
   ],
   "source": [
    "N = 10\n",
    "qpoly = sym.Poly(uq.series(q,0,N).removeO(),q)\n",
    "un = list(reversed(qpoly.all_coeffs()))\n",
    "un"
   ]
  },
  {
   "cell_type": "code",
   "execution_count": 8,
   "id": "operating-adelaide",
   "metadata": {},
   "outputs": [
    {
     "data": {
      "image/png": "[encoded data removed]",
      "text/plain": [
       "<Figure size 432x288 with 1 Axes>"
      ]
     },
     "metadata": {
      "needs_background": "light"
     },
     "output_type": "display_data"
    }
   ],
   "source": [
    "fig = plt.figure(1)\n",
    "plt.stem(np.array(un,dtype='float'))\n",
    "plt.grid()"
   ]
  },
  {
   "cell_type": "code",
   "execution_count": 9,
   "id": "third-document",
   "metadata": {},
   "outputs": [
    {
     "data": {
      "text/latex": [
       "$\\displaystyle \\frac{b z}{a + z}$"
      ],
      "text/plain": [
       "b*z/(a + z)"
      ]
     },
     "execution_count": 9,
     "metadata": {},
     "output_type": "execute_result"
    }
   ],
   "source": [
    "a, b = sym.symbols('a,b')\n",
    "Hz = b / (1+a*z**(-1))\n",
    "Hz.cancel()"
   ]
  },
  {
   "cell_type": "code",
   "execution_count": 10,
   "id": "molecular-liability",
   "metadata": {},
   "outputs": [
    {
     "data": {
      "text/latex": [
       "$\\displaystyle \\frac{b}{a q + 1}$"
      ],
      "text/plain": [
       "b/(a*q + 1)"
      ]
     },
     "execution_count": 10,
     "metadata": {},
     "output_type": "execute_result"
    }
   ],
   "source": [
    "Hq = Hz.subs({z: q**(-1)})\n",
    "Hq"
   ]
  },
  {
   "cell_type": "code",
   "execution_count": 11,
   "id": "divided-bookmark",
   "metadata": {},
   "outputs": [
    {
     "data": {
      "text/latex": [
       "$\\displaystyle - \\frac{4}{q - 2}$"
      ],
      "text/plain": [
       "-4/(q - 2)"
      ]
     },
     "execution_count": 11,
     "metadata": {},
     "output_type": "execute_result"
    }
   ],
   "source": [
    "Hq1 = Hq.subs({a:sym.Rational(-1/2),b:2})\n",
    "Hq1.cancel()"
   ]
  },
  {
   "cell_type": "code",
   "execution_count": 12,
   "id": "industrial-rogers",
   "metadata": {},
   "outputs": [
    {
     "data": {
      "text/plain": [
       "[2, 1, 1/2, 1/4, 1/8, 1/16, 1/32, 1/64, 1/128, 1/256]"
      ]
     },
     "execution_count": 12,
     "metadata": {},
     "output_type": "execute_result"
    }
   ],
   "source": [
    "N = 10\n",
    "qpoly = sym.Poly(Hq1.series(q,0,N).removeO(),q)\n",
    "hn1 = list(reversed(qpoly.all_coeffs()))\n",
    "hn1"
   ]
  },
  {
   "cell_type": "code",
   "execution_count": 13,
   "id": "union-calvin",
   "metadata": {},
   "outputs": [
    {
     "data": {
      "image/png": "[encoded data removed]",
      "text/plain": [
       "<Figure size 432x288 with 1 Axes>"
      ]
     },
     "metadata": {
      "needs_background": "light"
     },
     "output_type": "display_data"
    }
   ],
   "source": [
    "fig = plt.figure(2)\n",
    "plt.stem(np.array(hn1,dtype='float'))\n",
    "plt.grid()"
   ]
  },
  {
   "cell_type": "code",
   "execution_count": 14,
   "id": "streaming-organizer",
   "metadata": {},
   "outputs": [
    {
     "data": {
      "text/latex": [
       "$\\displaystyle \\frac{1}{1 - \\frac{3}{2 z} + \\frac{1}{2 z^{2}}}$"
      ],
      "text/plain": [
       "1/(1 - 3/(2*z) + 1/(2*z**2))"
      ]
     },
     "execution_count": 14,
     "metadata": {},
     "output_type": "execute_result"
    }
   ],
   "source": [
    "Xz = 1/(1-sym.Rational(3/2)*z**(-1)+sym.Rational(1/2)*z**(-2))\n",
    "Xz"
   ]
  },
  {
   "cell_type": "code",
   "execution_count": 15,
   "id": "another-chinese",
   "metadata": {},
   "outputs": [
    {
     "data": {
      "text/latex": [
       "$\\displaystyle \\frac{2}{q^{2} - 3 q + 2}$"
      ],
      "text/plain": [
       "2/(q**2 - 3*q + 2)"
      ]
     },
     "execution_count": 15,
     "metadata": {},
     "output_type": "execute_result"
    }
   ],
   "source": [
    "Xq = Xz.subs({z:q**(-1)})\n",
    "Xq.cancel()"
   ]
  },
  {
   "cell_type": "code",
   "execution_count": 16,
   "id": "entitled-uniform",
   "metadata": {},
   "outputs": [
    {
     "data": {
      "text/plain": [
       "[1, 3/2, 7/4, 15/8, 31/16, 63/32, 127/64, 255/128, 511/256, 1023/512]"
      ]
     },
     "execution_count": 16,
     "metadata": {},
     "output_type": "execute_result"
    }
   ],
   "source": [
    "N = 10\n",
    "qpoly = sym.Poly(Xq.series(q,0,N).removeO(),q)\n",
    "xn = list(reversed(qpoly.all_coeffs()))\n",
    "xn"
   ]
  },
  {
   "cell_type": "code",
   "execution_count": 17,
   "id": "composite-hurricane",
   "metadata": {},
   "outputs": [
    {
     "data": {
      "image/png": "[encoded data removed]",
      "text/plain": [
       "<Figure size 432x288 with 1 Axes>"
      ]
     },
     "metadata": {
      "needs_background": "light"
     },
     "output_type": "display_data"
    }
   ],
   "source": [
    "fig = plt.figure(3)\n",
    "plt.stem(np.array(xn,dtype=float))\n",
    "plt.grid()"
   ]
  },
  {
   "cell_type": "code",
   "execution_count": 18,
   "id": "exempt-luxury",
   "metadata": {},
   "outputs": [
    {
     "data": {
      "text/plain": [
       "[16382, 8190, 4094, 2046, 1022, 510, 254, 126, 62, 30, 14, 6, 2, 0, 0]"
      ]
     },
     "execution_count": 18,
     "metadata": {},
     "output_type": "execute_result"
    }
   ],
   "source": [
    "N = 15\n",
    "n = np.arange(N)-(N-1)\n",
    "zpoly = sym.Poly(Xz.series(z,0,N).removeO(),z)\n",
    "xn = list(zpoly.all_coeffs())\n",
    "xn"
   ]
  },
  {
   "cell_type": "code",
   "execution_count": 19,
   "id": "practical-manufacturer",
   "metadata": {},
   "outputs": [
    {
     "data": {
      "image/png": "[encoded data removed]",
      "text/plain": [
       "<Figure size 432x288 with 1 Axes>"
      ]
     },
     "metadata": {
      "needs_background": "light"
     },
     "output_type": "display_data"
    }
   ],
   "source": [
    "fig = plt.figure(4)\n",
    "plt.stem(n,np.array(xn,dtype=float))\n",
    "plt.grid()"
   ]
  },
  {
   "cell_type": "code",
   "execution_count": 20,
   "id": "architectural-swaziland",
   "metadata": {},
   "outputs": [
    {
     "data": {
      "text/latex": [
       "$\\displaystyle 2 z^{2} + 6 z^{3} + 14 z^{4} + 30 z^{5} + 62 z^{6} + 126 z^{7} + 254 z^{8} + 510 z^{9} + 1022 z^{10} + 2046 z^{11} + 4094 z^{12} + 8190 z^{13} + 16382 z^{14} + O\\left(z^{15}\\right)$"
      ],
      "text/plain": [
       "2*z**2 + 6*z**3 + 14*z**4 + 30*z**5 + 62*z**6 + 126*z**7 + 254*z**8 + 510*z**9 + 1022*z**10 + 2046*z**11 + 4094*z**12 + 8190*z**13 + 16382*z**14 + O(z**15)"
      ]
     },
     "execution_count": 20,
     "metadata": {},
     "output_type": "execute_result"
    }
   ],
   "source": [
    "Xz.series(z,0,N)"
   ]
  },
  {
   "cell_type": "code",
   "execution_count": 21,
   "id": "developed-department",
   "metadata": {},
   "outputs": [
    {
     "data": {
      "text/latex": [
       "$\\displaystyle 16382 z^{14} + 8190 z^{13} + 4094 z^{12} + 2046 z^{11} + 1022 z^{10} + 510 z^{9} + 254 z^{8} + 126 z^{7} + 62 z^{6} + 30 z^{5} + 14 z^{4} + 6 z^{3} + 2 z^{2}$"
      ],
      "text/plain": [
       "16382*z**14 + 8190*z**13 + 4094*z**12 + 2046*z**11 + 1022*z**10 + 510*z**9 + 254*z**8 + 126*z**7 + 62*z**6 + 30*z**5 + 14*z**4 + 6*z**3 + 2*z**2"
      ]
     },
     "execution_count": 21,
     "metadata": {},
     "output_type": "execute_result"
    }
   ],
   "source": [
    "Xz.series(z,0,N).removeO()"
   ]
  },
  {
   "cell_type": "code",
   "execution_count": 22,
   "id": "guided-sphere",
   "metadata": {},
   "outputs": [
    {
     "data": {
      "text/latex": [
       "$\\displaystyle \\operatorname{Poly}{\\left( 16382 z^{14} + 8190 z^{13} + 4094 z^{12} + 2046 z^{11} + 1022 z^{10} + 510 z^{9} + 254 z^{8} + 126 z^{7} + 62 z^{6} + 30 z^{5} + 14 z^{4} + 6 z^{3} + 2 z^{2}, z, domain=\\mathbb{Z} \\right)}$"
      ],
      "text/plain": [
       "Poly(16382*z**14 + 8190*z**13 + 4094*z**12 + 2046*z**11 + 1022*z**10 + 510*z**9 + 254*z**8 + 126*z**7 + 62*z**6 + 30*z**5 + 14*z**4 + 6*z**3 + 2*z**2, z, domain='ZZ')"
      ]
     },
     "execution_count": 22,
     "metadata": {},
     "output_type": "execute_result"
    }
   ],
   "source": [
    "sym.Poly(Xz.series(z,0,N).removeO(),z)"
   ]
  },
  {
   "cell_type": "code",
   "execution_count": 23,
   "id": "framed-letters",
   "metadata": {},
   "outputs": [
    {
     "data": {
      "text/plain": [
       "[16382, 8190, 4094, 2046, 1022, 510, 254, 126, 62, 30, 14, 6, 2, 0, 0]"
      ]
     },
     "execution_count": 23,
     "metadata": {},
     "output_type": "execute_result"
    }
   ],
   "source": [
    "zpoly.all_coeffs()"
   ]
  },
  {
   "cell_type": "code",
   "execution_count": null,
   "id": "southern-creativity",
   "metadata": {},
   "outputs": [],
   "source": []
  },
  {
   "cell_type": "code",
   "execution_count": null,
   "id": "psychological-circle",
   "metadata": {},
   "outputs": [],
   "source": []
  }
 ],
 "metadata": {
  "kernelspec": {
   "display_name": "Python 3",
   "language": "python",
   "name": "python3"
  },
  "language_info": {
   "codemirror_mode": {
    "name": "ipython",
    "version": 3
   },
   "file_extension": ".py",
   "mimetype": "text/x-python",
   "name": "python",
   "nbconvert_exporter": "python",
   "pygments_lexer": "ipython3",
   "version": "3.9.1"
  }
 },
 "nbformat": 4,
 "nbformat_minor": 5
}
